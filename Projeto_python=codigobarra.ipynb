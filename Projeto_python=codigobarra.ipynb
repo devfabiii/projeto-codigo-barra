{
 "cells": [
  {
   "cell_type": "code",
   "execution_count": 3,
   "id": "7f0d9377",
   "metadata": {},
   "outputs": [
    {
     "data": {
      "text/plain": [
       "'codigo_barra.png'"
      ]
     },
     "execution_count": 3,
     "metadata": {},
     "output_type": "execute_result"
    }
   ],
   "source": [
    "# lista de produtos em uma fábrica, Código de Barras\n",
    "\n",
    "from barcode import EAN13\n",
    "from barcode.writer import ImageWriter\n",
    "\n",
    "codigo_barra = EAN13 (\"123123123123\", writer=ImageWriter())\n",
    "codigo_barra.save(\"codigo_barra\")"
   ]
  },
  {
   "cell_type": "code",
   "execution_count": 8,
   "id": "42d7504e",
   "metadata": {},
   "outputs": [],
   "source": [
    "codigos_produtos = {\n",
    "   \"Feijão\" : \"551746511111\",\n",
    "    \"Arroz\" : \"665789011111\",\n",
    "    \"Macarrão\": \"665871111111\",\n",
    "    \"Azeite\": \"855621111111\"}\n",
    "\n",
    "for produto in codigos_produtos:\n",
    "    codigo = codigos_produtos[produto]\n",
    "    codigo_barra = EAN13(codigo, writer=ImageWriter())\n",
    "    codigo_barra.save(f\"codigio_barra_{produto})\")\n",
    "    "
   ]
  },
  {
   "cell_type": "code",
   "execution_count": null,
   "id": "6983c51e",
   "metadata": {},
   "outputs": [],
   "source": []
  }
 ],
 "metadata": {
  "kernelspec": {
   "display_name": "Python 3 (ipykernel)",
   "language": "python",
   "name": "python3"
  },
  "language_info": {
   "codemirror_mode": {
    "name": "ipython",
    "version": 3
   },
   "file_extension": ".py",
   "mimetype": "text/x-python",
   "name": "python",
   "nbconvert_exporter": "python",
   "pygments_lexer": "ipython3",
   "version": "3.9.7"
  }
 },
 "nbformat": 4,
 "nbformat_minor": 5
}
